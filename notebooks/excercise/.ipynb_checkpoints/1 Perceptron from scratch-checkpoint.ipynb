{
 "cells": [
  {
   "cell_type": "code",
   "execution_count": 1,
   "metadata": {
    "ExecuteTime": {
     "end_time": "2019-03-16T22:24:38.184286Z",
     "start_time": "2019-03-16T22:24:35.244093Z"
    }
   },
   "outputs": [],
   "source": [
    "import numpy as np\n",
    "import pandas as pd\n",
    "import seaborn as sns; sns.set()\n",
    "from sklearn.metrics import confusion_matrix\n",
    "\n",
    "# initiating random number\n",
    "np.random.seed(11)\n",
    "\n",
    "#### Creating the dataset\n",
    "\n",
    "# mean and standard deviation for the x belonging to the first class\n",
    "mu_x1, sigma_x1 = 0, 0.1 \n",
    "\n",
    "# constat to make the second distribution different from the first\n",
    "x2_mu_diff = 0.35\n",
    "\n",
    "# creating the first distribution\n",
    "d1 = pd.DataFrame({'x1': np.random.normal(mu_x1, sigma_x1 , 1000),\n",
    "                   'x2': np.random.normal(mu_x1, sigma_x1 , 1000),\n",
    "                   'type': 0})\n",
    "\n",
    "# creating the second distribution\n",
    "d2 = pd.DataFrame({'x1': np.random.normal(mu_x1, sigma_x1 , 1000) + x2_mu_diff,\n",
    "                   'x2': np.random.normal(mu_x1, sigma_x1 , 1000) + x2_mu_diff,\n",
    "                   'type': 1})\n",
    "\n",
    "data = pd.concat([d1, d2], ignore_index=True)\n",
    "\n",
    "\n",
    "ax = sns.scatterplot(x=\"x1\", y=\"x2\", hue=\"type\",\n",
    "                      data=data)\n"
   ]
  },
  {
   "cell_type": "code",
   "execution_count": 2,
   "metadata": {
    "ExecuteTime": {
     "end_time": "2019-03-16T22:24:38.219506Z",
     "start_time": "2019-03-16T22:24:38.198617Z"
    }
   },
   "outputs": [
    {
     "ename": "SyntaxError",
     "evalue": "invalid syntax (<ipython-input-2-c64f1960cd82>, line 26)",
     "output_type": "error",
     "traceback": [
      "\u001b[0;36m  File \u001b[0;32m\"<ipython-input-2-c64f1960cd82>\"\u001b[0;36m, line \u001b[0;32m26\u001b[0m\n\u001b[0;31m    z =  # complete here\u001b[0m\n\u001b[0m                        ^\u001b[0m\n\u001b[0;31mSyntaxError\u001b[0m\u001b[0;31m:\u001b[0m invalid syntax\n"
     ]
    }
   ],
   "source": [
    "class Perceptron(object):\n",
    "    \"\"\"\n",
    "    Simple implementation of the perceptron algorithm\n",
    "    \"\"\"\n",
    "\n",
    "    def __init__(self, w0=1, w1=0.1, w2=0.1):\n",
    "\n",
    "        # weights\n",
    "        self.w0 = w0  # bias\n",
    "        self.w1 = w1\n",
    "        self.w2 = w2\n",
    "\n",
    "    def step_function(self, z):\n",
    "        if z >= 0:\n",
    "            return 1\n",
    "        else:\n",
    "            return 0\n",
    "\n",
    "    def weighted_sum_inputs(self, x1, x2):\n",
    "        return # complete here\n",
    "\n",
    "    def predict(self, x1, x2):\n",
    "        \"\"\"\n",
    "        Uses the step function to determine the output\n",
    "        \"\"\"\n",
    "        z =  # complete here\n",
    "\n",
    "        return self.step_function(z)\n",
    "\n",
    "    def predict_boundary(self, x):\n",
    "        \"\"\"\n",
    "        Used to predict the boundaries of our classifier\n",
    "        \"\"\"\n",
    "        return -(self.w1 * x + self.w0) / self.w2\n",
    "\n",
    "    def fit(self, X, y, epochs=1, step=0.1, verbose=True):\n",
    "        \"\"\"\n",
    "        Train the model given the dataset\n",
    "        \"\"\"\n",
    "        errors = []\n",
    "\n",
    "        for epoch in range(epochs):\n",
    "            error = 0\n",
    "            for i in range(0, len(X.index)):\n",
    "                x1, x2, target = X.values[i][0], X.values[i][1], y.values[i]\n",
    "                # The update is proportional to the step size and the error\n",
    "                update = step * (target - self.predict(x1, x2))\n",
    "                self.w1 += # complete here\n",
    "                self.w2 += # complete here\n",
    "                self.w0 += # complete here\n",
    "                error += int(update != 0.0)\n",
    "            errors.append(error)\n",
    "            if verbose:\n",
    "                print('Epochs: {} - Error: {} - Errors from all epochs: {}'\\\n",
    "                      .format(epoch, error, errors))\n"
   ]
  },
  {
   "cell_type": "code",
   "execution_count": null,
   "metadata": {
    "ExecuteTime": {
     "end_time": "2019-03-16T22:24:38.225767Z",
     "start_time": "2019-03-16T22:24:35.865Z"
    }
   },
   "outputs": [],
   "source": [
    "# Splitting the dataset in training and test set\n",
    "msk = np.random.rand(len(data)) < 0.8\n",
    "\n",
    "# Roughly 80% of data will go in the training set\n",
    "train_x, train_y = data[['x1','x2']][msk], data.type[msk]\n",
    "# Everything else will go into the validation set\n",
    "test_x, test_y = data[['x1','x2']][~msk], data.type[~msk]\n"
   ]
  },
  {
   "cell_type": "code",
   "execution_count": null,
   "metadata": {
    "ExecuteTime": {
     "end_time": "2019-03-16T22:24:38.234524Z",
     "start_time": "2019-03-16T22:24:36.259Z"
    }
   },
   "outputs": [],
   "source": [
    "my_perceptron = Perceptron(0.1,0.1)\n",
    "\n",
    "my_perceptron.fit(train_x, train_y, epochs=1, step=0.005)\n",
    "\n",
    "pred_y = test_x.apply(lambda x: my_perceptron.predict(x.x1, x.x2), axis=1)\n",
    "\n",
    "cm = confusion_matrix(test_y, pred_y, labels=[0, 1])\n",
    "\n",
    "print(pd.DataFrame(cm,\n",
    "                   index=['True 0', 'True 1'], \n",
    "                   columns=['Predicted 0', 'Predicted 1']))"
   ]
  },
  {
   "cell_type": "code",
   "execution_count": null,
   "metadata": {
    "ExecuteTime": {
     "end_time": "2019-03-16T22:24:38.238184Z",
     "start_time": "2019-03-16T22:24:36.606Z"
    }
   },
   "outputs": [],
   "source": [
    "my_perceptron.w0, my_perceptron.w1, my_perceptron.w2"
   ]
  },
  {
   "cell_type": "code",
   "execution_count": null,
   "metadata": {
    "ExecuteTime": {
     "end_time": "2019-03-16T22:24:38.241960Z",
     "start_time": "2019-03-16T22:24:37.008Z"
    }
   },
   "outputs": [],
   "source": [
    "# Adds decision boundary line to the scatterplot\n",
    "\n",
    "ax = sns.scatterplot(x=\"x1\", y=\"x2\", hue=\"type\",\n",
    "                      data=data[~msk])\n",
    "ax.autoscale(False)\n",
    "x_vals = np.array(ax.get_xlim())\n",
    "y_vals = my_perceptron.predict_boundary(x_vals)\n",
    "ax.plot(x_vals, y_vals, '--', c=\"red\")"
   ]
  },
  {
   "cell_type": "code",
   "execution_count": null,
   "metadata": {
    "ExecuteTime": {
     "end_time": "2019-03-16T22:04:01.526178Z",
     "start_time": "2019-03-16T22:03:54.550458Z"
    }
   },
   "outputs": [],
   "source": []
  }
 ],
 "metadata": {
  "hide_input": false,
  "kernelspec": {
   "display_name": "Python 3",
   "language": "python",
   "name": "python3"
  },
  "language_info": {
   "codemirror_mode": {
    "name": "ipython",
    "version": 3
   },
   "file_extension": ".py",
   "mimetype": "text/x-python",
   "name": "python",
   "nbconvert_exporter": "python",
   "pygments_lexer": "ipython3",
   "version": "3.6.8"
  },
  "toc": {
   "colors": {
    "hover_highlight": "#DAA520",
    "running_highlight": "#FF0000",
    "selected_highlight": "#FFD700"
   },
   "moveMenuLeft": true,
   "nav_menu": {
    "height": "12px",
    "width": "252px"
   },
   "navigate_menu": true,
   "number_sections": true,
   "sideBar": true,
   "threshold": 4,
   "toc_cell": false,
   "toc_section_display": "block",
   "toc_window_display": false
  }
 },
 "nbformat": 4,
 "nbformat_minor": 2
}
