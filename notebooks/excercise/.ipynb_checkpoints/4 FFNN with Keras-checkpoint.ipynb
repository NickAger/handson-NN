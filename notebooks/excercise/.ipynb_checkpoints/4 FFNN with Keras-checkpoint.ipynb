{
 "cells": [
  {
   "cell_type": "code",
   "execution_count": 8,
   "metadata": {
    "ExecuteTime": {
     "end_time": "2019-03-17T00:06:39.927272Z",
     "start_time": "2019-03-17T00:06:39.881616Z"
    }
   },
   "outputs": [
    {
     "ename": "ImportError",
     "evalue": "cannot import name 'tbCallBack'",
     "output_type": "error",
     "traceback": [
      "\u001b[0;31m---------------------------------------------------------------------------\u001b[0m",
      "\u001b[0;31mImportError\u001b[0m                               Traceback (most recent call last)",
      "\u001b[0;32m<ipython-input-8-54cb2a1b042b>\u001b[0m in \u001b[0;36m<module>\u001b[0;34m\u001b[0m\n\u001b[1;32m      7\u001b[0m \u001b[0;32mimport\u001b[0m \u001b[0mmatplotlib\u001b[0m\u001b[0;34m\u001b[0m\u001b[0;34m\u001b[0m\u001b[0m\n\u001b[1;32m      8\u001b[0m \u001b[0;32mimport\u001b[0m \u001b[0mseaborn\u001b[0m \u001b[0;32mas\u001b[0m \u001b[0msns\u001b[0m\u001b[0;34m;\u001b[0m \u001b[0msns\u001b[0m\u001b[0;34m.\u001b[0m\u001b[0mset\u001b[0m\u001b[0;34m(\u001b[0m\u001b[0;34m)\u001b[0m\u001b[0;34m\u001b[0m\u001b[0;34m\u001b[0m\u001b[0m\n\u001b[0;32m----> 9\u001b[0;31m \u001b[0;32mfrom\u001b[0m \u001b[0mkeras\u001b[0m\u001b[0;34m.\u001b[0m\u001b[0mcallbacks\u001b[0m \u001b[0;32mimport\u001b[0m \u001b[0mTensorBoard\u001b[0m\u001b[0;34m,\u001b[0m \u001b[0mModelCheckpoint\u001b[0m\u001b[0;34m,\u001b[0m \u001b[0mtbCallBack\u001b[0m\u001b[0;34m\u001b[0m\u001b[0;34m\u001b[0m\u001b[0m\n\u001b[0m\u001b[1;32m     10\u001b[0m \u001b[0;34m\u001b[0m\u001b[0m\n\u001b[1;32m     11\u001b[0m \u001b[0mmatplotlib\u001b[0m\u001b[0;34m.\u001b[0m\u001b[0muse\u001b[0m\u001b[0;34m(\u001b[0m\u001b[0;34m\"TkAgg\"\u001b[0m\u001b[0;34m)\u001b[0m\u001b[0;34m\u001b[0m\u001b[0;34m\u001b[0m\u001b[0m\n",
      "\u001b[0;31mImportError\u001b[0m: cannot import name 'tbCallBack'"
     ]
    }
   ],
   "source": [
    "%matplotlib inline\n",
    "import numpy as np\n",
    "import pandas as pd\n",
    "from sklearn.metrics import confusion_matrix\n",
    "from sklearn.metrics import roc_auc_score\n",
    "from sklearn.metrics import mean_squared_error\n",
    "import matplotlib\n",
    "import seaborn as sns; sns.set()\n",
    "from keras.callbacks import TensorBoard, ModelCheckpoint\n",
    "\n",
    "matplotlib.use(\"TkAgg\")\n",
    "\n",
    "# initiating random number\n",
    "np.random.seed(11)\n",
    "\n",
    "#### Creating the dataset\n",
    "\n",
    "# mean and standard deviation for the x belonging to the first class\n",
    "mu_x1, sigma_x1 = 0, 0.1\n",
    "\n",
    "# constat to make the second distribution different from the first\n",
    "# x1_mu_diff, x2_mu_diff, x3_mu_diff, x4_mu_diff = 0.5, 0.5, 0.5, 0.5\n",
    "x1_mu_diff, x2_mu_diff, x3_mu_diff, x4_mu_diff = 0, 1, 0, 1\n",
    "\n",
    "# creating the first distribution\n",
    "d1 = pd.DataFrame({'x1': np.random.normal(mu_x1, sigma_x1, 1000) + 1,\n",
    "                   'x2': np.random.normal(mu_x1, sigma_x1, 1000) + 1,\n",
    "                   'type': 0})\n",
    "\n",
    "d2 = pd.DataFrame({'x1': np.random.normal(mu_x1, sigma_x1, 1000) + 1,\n",
    "                   'x2': np.random.normal(mu_x1, sigma_x1, 1000) - 1,\n",
    "                   'type': 1})\n",
    "\n",
    "d3 = pd.DataFrame({'x1': np.random.normal(mu_x1, sigma_x1, 1000) - 1,\n",
    "                   'x2': np.random.normal(mu_x1, sigma_x1, 1000) - 1,\n",
    "                   'type': 0})\n",
    "\n",
    "d4 = pd.DataFrame({'x1': np.random.normal(mu_x1, sigma_x1, 1000) - 1,\n",
    "                   'x2': np.random.normal(mu_x1, sigma_x1, 1000) + 1,\n",
    "                   'type': 1})\n",
    "\n",
    "data = pd.concat([d1, d2, d3, d4], ignore_index=True)\n",
    "\n",
    "ax = sns.scatterplot(x=\"x1\", y=\"x2\", hue=\"type\",\n",
    "                      data=data)\n"
   ]
  },
  {
   "cell_type": "code",
   "execution_count": 2,
   "metadata": {
    "ExecuteTime": {
     "end_time": "2019-03-17T00:00:49.928412Z",
     "start_time": "2019-03-17T00:00:49.911763Z"
    }
   },
   "outputs": [],
   "source": [
    "# Splitting the dataset in training and test set\n",
    "msk = np.random.rand(len(data)) < 0.8\n",
    "\n",
    "# Roughly 80% of data will go in the training set\n",
    "train_x, train_y = data[['x1', 'x2']][msk], data[['type']][msk].values\n",
    "\n",
    "# Everything else will go into the validation set\n",
    "test_x, test_y = data[['x1', 'x2']][~msk], data[['type']][~msk].values"
   ]
  },
  {
   "cell_type": "code",
   "execution_count": 3,
   "metadata": {
    "ExecuteTime": {
     "end_time": "2019-03-17T00:00:56.295827Z",
     "start_time": "2019-03-17T00:00:49.932060Z"
    }
   },
   "outputs": [
    {
     "name": "stdout",
     "output_type": "stream",
     "text": [
      "Epoch 1/1\n",
      "3183/3183 [==============================] - 6s 2ms/step - loss: 0.1492\n"
     ]
    },
    {
     "data": {
      "text/plain": [
       "<keras.callbacks.History at 0x1a408ccf98>"
      ]
     },
     "execution_count": 3,
     "metadata": {},
     "output_type": "execute_result"
    }
   ],
   "source": [
    "from keras.models import Sequential\n",
    "from keras.layers.core import Dense, Dropout, Activation\n",
    "from keras.optimizers import SGD\n",
    "from sklearn.metrics import mean_squared_error\n",
    "\n",
    "\n",
    "model = Sequential()\n",
    "model.add(Dense(2, input_dim=2))\n",
    "model.add(Activation('tanh'))\n",
    "model.add(Dense(1))\n",
    "model.add(Activation('sigmoid'))\n",
    "\n",
    "sgd = SGD(lr=0.1)\n",
    "model.compile(loss='mse', optimizer=sgd)\n",
    "\n",
    "model.fit(train_x, train_y,batch_size=1, epochs=1)\n"
   ]
  },
  {
   "cell_type": "code",
   "execution_count": null,
   "metadata": {
    "ExecuteTime": {
     "start_time": "2019-03-17T00:00:10.723Z"
    }
   },
   "outputs": [],
   "source": [
    "pred = model.predict_proba(test_x[:30])\n",
    "\n",
    "print('MSE: ',mean_squared_error(test_y, pred))"
   ]
  },
  {
   "cell_type": "code",
   "execution_count": 4,
   "metadata": {
    "ExecuteTime": {
     "end_time": "2019-03-17T00:01:26.967011Z",
     "start_time": "2019-03-17T00:01:26.546411Z"
    }
   },
   "outputs": [
    {
     "ename": "NameError",
     "evalue": "name 'logs' is not defined",
     "output_type": "error",
     "traceback": [
      "\u001b[0;31m---------------------------------------------------------------------------\u001b[0m",
      "\u001b[0;31mNameError\u001b[0m                                 Traceback (most recent call last)",
      "\u001b[0;32m<ipython-input-4-242f36c6ab93>\u001b[0m in \u001b[0;36m<module>\u001b[0;34m\u001b[0m\n\u001b[1;32m      1\u001b[0m tbCallBack = TensorBoard(\n\u001b[0;32m----> 2\u001b[0;31m     log_dir=logs, histogram_freq=0, write_graph=True, write_images=True)\n\u001b[0m\u001b[1;32m      3\u001b[0m \u001b[0;34m\u001b[0m\u001b[0m\n\u001b[1;32m      4\u001b[0m \u001b[0;34m\u001b[0m\u001b[0m\n\u001b[1;32m      5\u001b[0m \u001b[0mfilepath\u001b[0m \u001b[0;34m=\u001b[0m \u001b[0;34m\"weights-improvement-{epoch:02d}-{accuracy:.2f}.hdf5\"\u001b[0m\u001b[0;34m\u001b[0m\u001b[0;34m\u001b[0m\u001b[0m\n",
      "\u001b[0;31mNameError\u001b[0m: name 'logs' is not defined"
     ]
    }
   ],
   "source": [
    "tbCallBack = TensorBoard(\n",
    "    log_dir=logs, histogram_freq=0, write_graph=True, write_images=True)\n",
    "\n",
    "\n",
    "filepath = \"weights-improvement-{epoch:02d}-{accuracy:.2f}.hdf5\"\n",
    "\n",
    "checkpoint = ModelCheckpoint(\n",
    "    filepath, monitor='val_acc', verbose=1, save_best_only=True, mode='max')\n",
    "callbacks_list = [tbCallBack]\n"
   ]
  },
  {
   "cell_type": "code",
   "execution_count": 7,
   "metadata": {
    "ExecuteTime": {
     "end_time": "2019-03-17T00:06:25.315484Z",
     "start_time": "2019-03-17T00:06:25.298118Z"
    }
   },
   "outputs": [
    {
     "ename": "NameError",
     "evalue": "name 'tbCallBack' is not defined",
     "output_type": "error",
     "traceback": [
      "\u001b[0;31m---------------------------------------------------------------------------\u001b[0m",
      "\u001b[0;31mNameError\u001b[0m                                 Traceback (most recent call last)",
      "\u001b[0;32m<ipython-input-7-716ee6a78841>\u001b[0m in \u001b[0;36m<module>\u001b[0;34m\u001b[0m\n\u001b[1;32m      4\u001b[0m     filepath, monitor='accuracy', verbose=1, save_best_only=False, mode='max')\n\u001b[1;32m      5\u001b[0m \u001b[0;34m\u001b[0m\u001b[0m\n\u001b[0;32m----> 6\u001b[0;31m \u001b[0mcallbacks_list\u001b[0m \u001b[0;34m=\u001b[0m \u001b[0;34m[\u001b[0m\u001b[0mtbCallBack\u001b[0m\u001b[0;34m,\u001b[0m \u001b[0mcheckpoint\u001b[0m\u001b[0;34m]\u001b[0m\u001b[0;34m\u001b[0m\u001b[0;34m\u001b[0m\u001b[0m\n\u001b[0m\u001b[1;32m      7\u001b[0m \u001b[0;34m\u001b[0m\u001b[0m\n\u001b[1;32m      8\u001b[0m \u001b[0mmodel\u001b[0m\u001b[0;34m.\u001b[0m\u001b[0mcompile\u001b[0m\u001b[0;34m(\u001b[0m\u001b[0mloss\u001b[0m\u001b[0;34m=\u001b[0m\u001b[0;34m'mse'\u001b[0m\u001b[0;34m,\u001b[0m \u001b[0moptimizer\u001b[0m\u001b[0;34m=\u001b[0m\u001b[0msgd\u001b[0m\u001b[0;34m,\u001b[0m \u001b[0mmetrics\u001b[0m\u001b[0;34m=\u001b[0m\u001b[0;34m[\u001b[0m\u001b[0;34m'accuracy'\u001b[0m\u001b[0;34m]\u001b[0m\u001b[0;34m)\u001b[0m\u001b[0;34m\u001b[0m\u001b[0;34m\u001b[0m\u001b[0m\n",
      "\u001b[0;31mNameError\u001b[0m: name 'tbCallBack' is not defined"
     ]
    }
   ],
   "source": [
    "filepath = \"checkpoint-{epoch:02d}-{acc:.2f}.hdf5\"\n",
    "\n",
    "checkpoint = ModelCheckpoint(\n",
    "    filepath, monitor='accuracy', verbose=1, save_best_only=False, mode='max')\n",
    "\n",
    "callbacks_list = [tbCallBack, checkpoint]\n",
    "\n",
    "model.compile(loss='mse', optimizer=sgd, metrics=['accuracy'])\n",
    "\n",
    "history = model.fit(train_x, train_y, batch_size=1, epochs=10, callbacks=callbacks_list)"
   ]
  },
  {
   "cell_type": "code",
   "execution_count": null,
   "metadata": {},
   "outputs": [],
   "source": []
  }
 ],
 "metadata": {
  "kernelspec": {
   "display_name": "Python 3",
   "language": "python",
   "name": "python3"
  },
  "language_info": {
   "codemirror_mode": {
    "name": "ipython",
    "version": 3
   },
   "file_extension": ".py",
   "mimetype": "text/x-python",
   "name": "python",
   "nbconvert_exporter": "python",
   "pygments_lexer": "ipython3",
   "version": "3.6.8"
  }
 },
 "nbformat": 4,
 "nbformat_minor": 2
}
