{
 "cells": [
  {
   "cell_type": "markdown",
   "metadata": {},
   "source": [
    "# FFNN with MNIST \n",
    "\n",
    "We are now going to use grid search to find the best network archtecture.\n",
    "\n",
    "Please complete the code in the where you find the \"# complete here\" commnet."
   ]
  },
  {
   "cell_type": "code",
   "execution_count": 1,
   "metadata": {
    "ExecuteTime": {
     "end_time": "2019-02-10T22:41:27.531529Z",
     "start_time": "2019-02-10T22:39:29.608485Z"
    }
   },
   "outputs": [
    {
     "name": "stderr",
     "output_type": "stream",
     "text": [
      "Using TensorFlow backend.\n"
     ]
    },
    {
     "name": "stdout",
     "output_type": "stream",
     "text": [
      "Train on 30000 samples, validate on 10000 samples\n",
      "Epoch 1/1\n",
      "30000/30000 [==============================] - 6s 200us/step - loss: 1.4227 - acc: 0.7021 - val_loss: 0.6956 - val_acc: 0.8477\n",
      "single_f_4_k_(2, 2) Test loss: 0.6955963584899902 Test accuracy: 0.8477\n",
      "Train on 30000 samples, validate on 10000 samples\n",
      "Epoch 1/1\n",
      "30000/30000 [==============================] - 7s 236us/step - loss: 1.3204 - acc: 0.7029 - val_loss: 0.5245 - val_acc: 0.8682\n",
      "single_f_4_k_(4, 4) Test loss: 0.5244717085361481 Test accuracy: 0.8682\n",
      "Train on 30000 samples, validate on 10000 samples\n",
      "Epoch 1/1\n",
      "30000/30000 [==============================] - 19s 629us/step - loss: 1.0930 - acc: 0.6913 - val_loss: 0.4574 - val_acc: 0.8711\n",
      "single_f_4_k_(16, 16) Test loss: 0.45735177330970767 Test accuracy: 0.8711\n",
      "Train on 30000 samples, validate on 10000 samples\n",
      "Epoch 1/1\n",
      "30000/30000 [==============================] - 6s 186us/step - loss: 1.0752 - acc: 0.7666 - val_loss: 0.4738 - val_acc: 0.8844\n",
      "single_f_8_k_(2, 2) Test loss: 0.4737536769390106 Test accuracy: 0.8844\n",
      "Train on 30000 samples, validate on 10000 samples\n",
      "Epoch 1/1\n",
      "30000/30000 [==============================] - 6s 196us/step - loss: 0.7635 - acc: 0.7955 - val_loss: 0.3414 - val_acc: 0.9058\n",
      "single_f_8_k_(4, 4) Test loss: 0.34144806359410285 Test accuracy: 0.9058\n",
      "Train on 30000 samples, validate on 10000 samples\n",
      "Epoch 1/1\n",
      "30000/30000 [==============================] - 10s 347us/step - loss: 0.8626 - acc: 0.7678 - val_loss: 0.3802 - val_acc: 0.8889\n",
      "single_f_8_k_(16, 16) Test loss: 0.380209806060791 Test accuracy: 0.8889\n",
      "Train on 30000 samples, validate on 10000 samples\n",
      "Epoch 1/1\n",
      "30000/30000 [==============================] - 9s 296us/step - loss: 0.8183 - acc: 0.8064 - val_loss: 0.3586 - val_acc: 0.9012\n",
      "single_f_16_k_(2, 2) Test loss: 0.3586310758829117 Test accuracy: 0.9012\n",
      "Train on 30000 samples, validate on 10000 samples\n",
      "Epoch 1/1\n",
      "30000/30000 [==============================] - 17s 566us/step - loss: 0.7393 - acc: 0.8204 - val_loss: 0.3059 - val_acc: 0.9133\n",
      "single_f_16_k_(4, 4) Test loss: 0.3058731132388115 Test accuracy: 0.9133\n",
      "Train on 30000 samples, validate on 10000 samples\n",
      "Epoch 1/1\n",
      "30000/30000 [==============================] - 12s 411us/step - loss: 0.7518 - acc: 0.7991 - val_loss: 0.3603 - val_acc: 0.8950\n",
      "single_f_16_k_(16, 16) Test loss: 0.36033520632386207 Test accuracy: 0.895\n"
     ]
    }
   ],
   "source": [
    "%matplotlib inline\n",
    "import keras\n",
    "from keras.datasets import mnist\n",
    "from keras.models import Sequential\n",
    "from keras.layers import Dense, Dropout, Flatten, Conv2D, MaxPooling2D\n",
    "import itertools\n",
    "import os\n",
    "\n",
    "batch_size = 512\n",
    "num_classes = 10\n",
    "epochs = 1\n",
    "N_SAMPLES = 30_000\n",
    "\n",
    "model_directory = 'models'\n",
    "\n",
    "# the data, split between train and test sets\n",
    "(X_train, y_train), (X_test, y_test) = mnist.load_data()\n",
    "\n",
    "# input image dimensions\n",
    "img_rows, img_cols = X_train[0].shape\n",
    "\n",
    "# Reshaping the data to use it in our network\n",
    "X_train = X_train.reshape(X_train.shape[0], img_rows, img_cols, 1)\n",
    "X_test = X_test.reshape(X_test.shape[0], img_rows, img_cols, 1)\n",
    "\n",
    "input_shape = (img_rows, img_cols, 1)\n",
    "\n",
    "# Scaling the data\n",
    "X_train = X_train / 255.0\n",
    "X_test = X_test / 255.0\n",
    "\n",
    "# convert class vectors to binary class matrices\n",
    "y_train = keras.utils.to_categorical(y_train, num_classes)\n",
    "y_test = keras.utils.to_categorical(y_test, num_classes)\n",
    "\n",
    "loss = 'categorical_crossentropy'\n",
    "optimizer = 'adam'\n",
    "\n",
    "X_train = X_train[:N_SAMPLES]\n",
    "X_test = X_test[:N_SAMPLES]\n",
    "y_train = y_train[:N_SAMPLES]\n",
    "y_test = y_test[:N_SAMPLES]\n",
    "\n",
    "filters = [4, 8, 16]\n",
    "kernal_sizes = [(2, 2), (4, 4), (16, 16)]\n",
    "\n",
    "for n_filters, kernel_size in itertools.product(filters, kernal_sizes):\n",
    "    model_name = 'single_f_' + str(n_filters) + '_k_' + str(kernel_size)\n",
    "\n",
    "    model = Sequential(name=model_name)\n",
    "    model.add(\n",
    "        Conv2D(\n",
    "            n_filters,\n",
    "            kernel_size=kernel_size,\n",
    "            activation='relu',\n",
    "            input_shape=input_shape))\n",
    "    model.add(Flatten())\n",
    "    model.add(Dense(num_classes, activation='softmax'))\n",
    "\n",
    "    model.compile(loss=loss, optimizer=optimizer, metrics=['accuracy'])\n",
    "\n",
    "    model.fit(\n",
    "        X_train,\n",
    "        y_train,\n",
    "        batch_size=batch_size,\n",
    "        epochs=epochs,\n",
    "        verbose=1,\n",
    "        validation_data=(X_test, y_test))\n",
    "    score = model.evaluate(X_test, y_test, verbose=0)\n",
    "\n",
    "#     print(f'{model_name} Test loss: { score[0]} - Test accuracy: {score[1]}')\n",
    "    print(model_name, 'Test loss:', score[0], 'Test accuracy:', score[1])\n",
    "\n",
    "    model_path = os.path.join(model_directory, model_name)\n",
    "    model.save(model_path)"
   ]
  },
  {
   "cell_type": "code",
   "execution_count": 2,
   "metadata": {
    "ExecuteTime": {
     "end_time": "2019-02-09T23:28:06.162780Z",
     "start_time": "2019-02-09T23:28:05.546222Z"
    }
   },
   "outputs": [
    {
     "data": {
      "image/png": "[encoded data removed]",
      "text/plain": [
       "<Figure size 432x288 with 1 Axes>"
      ]
     },
     "metadata": {
      "needs_background": "light"
     },
     "output_type": "display_data"
    }
   ],
   "source": [
    "import numpy as np\n",
    "from matplotlib import pyplot as plt\n",
    "plt.imshow(X_test[1][..., 0], cmap='Greys')\n",
    "plt.axis('off')\n",
    "plt.show()\n",
    "\n"
   ]
  },
  {
   "cell_type": "code",
   "execution_count": null,
   "metadata": {},
   "outputs": [],
   "source": []
  }
 ],
 "metadata": {
  "kernelspec": {
   "display_name": "Python 3",
   "language": "python",
   "name": "python3"
  },
  "language_info": {
   "codemirror_mode": {
    "name": "ipython",
    "version": 3
   },
   "file_extension": ".py",
   "mimetype": "text/x-python",
   "name": "python",
   "nbconvert_exporter": "python",
   "pygments_lexer": "ipython3",
   "version": "3.7.1"
  }
 },
 "nbformat": 4,
 "nbformat_minor": 2
}
