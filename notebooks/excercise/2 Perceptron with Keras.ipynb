{
 "cells": [
  {
   "cell_type": "code",
   "execution_count": 5,
   "metadata": {
    "ExecuteTime": {
     "end_time": "2019-03-16T22:06:41.064018Z",
     "start_time": "2019-03-16T22:06:39.550442Z"
    }
   },
   "outputs": [],
   "source": [
    "import numpy as np\n",
    "import pandas as pd\n",
    "import seaborn as sns; sns.set()\n",
    "from sklearn.metrics import confusion_matrix\n",
    "\n",
    "# initiating random number\n",
    "np.random.seed(11)\n",
    "\n",
    "#### Creating the dataset\n",
    "\n",
    "# mean and standard deviation for the x belonging to the first class\n",
    "mu_x1, sigma_x1 = 0, 0.1 \n",
    "\n",
    "# constat to make the second distribution different from the first\n",
    "x2_mu_diff = 0.35\n",
    "\n",
    "# creating the first distribution\n",
    "d1 = pd.DataFrame({'x1': np.random.normal(mu_x1, sigma_x1 , 1000),\n",
    "                   'x2': np.random.normal(mu_x1, sigma_x1 , 1000),\n",
    "                   'type': 0})\n",
    "\n",
    "# creating the second distribution\n",
    "d2 = pd.DataFrame({'x1': np.random.normal(mu_x1, sigma_x1 , 1000) + x2_mu_diff,\n",
    "                   'x2': np.random.normal(mu_x1, sigma_x1 , 1000) + x2_mu_diff,\n",
    "                   'type': 1})\n",
    "\n",
    "data = pd.concat([d1, d2], ignore_index=True)\n",
    "\n",
    "\n",
    "ax = sns.scatterplot(x=\"x1\", y=\"x2\", hue=\"type\",\n",
    "                      data=data)\n"
   ]
  },
  {
   "cell_type": "code",
   "execution_count": 6,
   "metadata": {
    "ExecuteTime": {
     "end_time": "2019-03-16T22:06:41.083751Z",
     "start_time": "2019-03-16T22:06:41.068619Z"
    }
   },
   "outputs": [],
   "source": [
    "# Splitting the dataset in training and test set\n",
    "msk = np.random.rand(len(data)) < 0.8\n",
    "\n",
    "# Roughly 80% of data will go in the training set\n",
    "train_x, train_y = data[['x1','x2']][msk], data.type[msk]\n",
    "# Everything else will go into the validation set\n",
    "test_x, test_y = data[['x1','x2']][~msk], data.type[~msk]\n"
   ]
  },
  {
   "cell_type": "code",
   "execution_count": 13,
   "metadata": {
    "ExecuteTime": {
     "end_time": "2019-03-16T22:53:23.514484Z",
     "start_time": "2019-03-16T22:53:20.066843Z"
    }
   },
   "outputs": [
    {
     "name": "stderr",
     "output_type": "stream",
     "text": [
      "/Users/marinamattos/anaconda3/envs/dl_36/lib/python3.6/site-packages/ipykernel_launcher.py:12: UserWarning: The `nb_epoch` argument in `fit` has been renamed `epochs`.\n",
      "  if sys.path[0] == '':\n"
     ]
    },
    {
     "name": "stdout",
     "output_type": "stream",
     "text": [
      "Epoch 1/1\n",
      "1618/1618 [==============================] - 3s 2ms/step - loss: 0.1339\n"
     ]
    },
    {
     "data": {
      "text/plain": [
       "<keras.callbacks.History at 0x1a407c9f98>"
      ]
     },
     "execution_count": 13,
     "metadata": {},
     "output_type": "execute_result"
    }
   ],
   "source": [
    "import numpy as np\n",
    "from keras.models import Sequential\n",
    "from keras.optimizers import SGD\n",
    "from keras.layers import Dense\n",
    "import keras.backend as K\n",
    "import tensorflow as tf\n",
    "\n",
    "    \n",
    "network = Sequential()\n",
    "network.add(Dense(1, input_dim = 2, activation = 'sigmoid'))\n",
    "network.compile(loss = \"mse\", optimizer = SGD(lr = 0.01))\n",
    "network.fit(train_x, train_y , nb_epoch = 1, batch_size = 1, shuffle = False)\n"
   ]
  },
  {
   "cell_type": "code",
   "execution_count": 14,
   "metadata": {
    "ExecuteTime": {
     "end_time": "2019-03-16T22:53:28.317559Z",
     "start_time": "2019-03-16T22:53:28.285124Z"
    }
   },
   "outputs": [
    {
     "data": {
      "text/plain": [
       "<keras.engine.sequential.Sequential at 0x1a407c98d0>"
      ]
     },
     "execution_count": 14,
     "metadata": {},
     "output_type": "execute_result"
    }
   ],
   "source": [
    "network.get_weights()\n",
    "network"
   ]
  },
  {
   "cell_type": "code",
   "execution_count": 16,
   "metadata": {
    "ExecuteTime": {
     "end_time": "2019-03-16T22:53:33.484567Z",
     "start_time": "2019-03-16T22:53:33.469904Z"
    }
   },
   "outputs": [
    {
     "data": {
      "text/plain": [
       "0.9993104589585172"
      ]
     },
     "execution_count": 16,
     "metadata": {},
     "output_type": "execute_result"
    }
   ],
   "source": [
    "pred_y = network.predict(test_x)\n",
    "roc_auc_score(test_y, pred_y)"
   ]
  },
  {
   "cell_type": "code",
   "execution_count": 9,
   "metadata": {
    "ExecuteTime": {
     "end_time": "2019-03-16T22:09:18.574406Z",
     "start_time": "2019-03-16T22:08:00.785735Z"
    }
   },
   "outputs": [
    {
     "name": "stdout",
     "output_type": "stream",
     "text": [
      "Epoch 1/30\n",
      "1618/1618 [==============================] - 3s 2ms/step - loss: 0.2227\n",
      "Epoch 2/30\n",
      "1618/1618 [==============================] - 2s 1ms/step - loss: 0.1793\n",
      "Epoch 3/30\n",
      "1618/1618 [==============================] - 2s 1ms/step - loss: 0.1480\n",
      "Epoch 4/30\n",
      "1618/1618 [==============================] - 2s 1ms/step - loss: 0.1254\n",
      "Epoch 5/30\n",
      "1618/1618 [==============================] - 4s 2ms/step - loss: 0.1087\n",
      "Epoch 6/30\n",
      "1618/1618 [==============================] - 2s 1ms/step - loss: 0.0960\n",
      "Epoch 7/30\n",
      "1618/1618 [==============================] - 2s 1ms/step - loss: 0.0861\n",
      "Epoch 8/30\n",
      "1618/1618 [==============================] - 3s 2ms/step - loss: 0.0781\n",
      "Epoch 9/30\n",
      "1618/1618 [==============================] - 3s 2ms/step - loss: 0.0717\n",
      "Epoch 10/30\n",
      "1618/1618 [==============================] - 3s 2ms/step - loss: 0.0664\n",
      "Epoch 11/30\n",
      "1618/1618 [==============================] - 3s 2ms/step - loss: 0.0619\n",
      "Epoch 12/30\n",
      "1618/1618 [==============================] - 3s 2ms/step - loss: 0.0581\n",
      "Epoch 13/30\n",
      "1618/1618 [==============================] - 3s 2ms/step - loss: 0.0548\n",
      "Epoch 14/30\n",
      "1618/1618 [==============================] - 3s 2ms/step - loss: 0.0519A: 0s - loss: \n",
      "Epoch 15/30\n",
      "1618/1618 [==============================] - 2s 1ms/step - loss: 0.0494\n",
      "Epoch 16/30\n",
      "1618/1618 [==============================] - 2s 1ms/step - loss: 0.0472\n",
      "Epoch 17/30\n",
      "1618/1618 [==============================] - 3s 2ms/step - loss: 0.0452\n",
      "Epoch 18/30\n",
      "1618/1618 [==============================] - 2s 1ms/step - loss: 0.0434\n",
      "Epoch 19/30\n",
      "1618/1618 [==============================] - 2s 1ms/step - loss: 0.0418\n",
      "Epoch 20/30\n",
      "1618/1618 [==============================] - 2s 2ms/step - loss: 0.0403\n",
      "Epoch 21/30\n",
      "1618/1618 [==============================] - 3s 2ms/step - loss: 0.0390\n",
      "Epoch 22/30\n",
      "1618/1618 [==============================] - 3s 2ms/step - loss: 0.0377\n",
      "Epoch 23/30\n",
      "1618/1618 [==============================] - 3s 2ms/step - loss: 0.0366\n",
      "Epoch 24/30\n",
      "1618/1618 [==============================] - 3s 2ms/step - loss: 0.0356\n",
      "Epoch 25/30\n",
      "1618/1618 [==============================] - 3s 2ms/step - loss: 0.0346\n",
      "Epoch 26/30\n",
      "1618/1618 [==============================] - 3s 2ms/step - loss: 0.0337\n",
      "Epoch 27/30\n",
      "1618/1618 [==============================] - 3s 2ms/step - loss: 0.0329\n",
      "Epoch 28/30\n",
      "1618/1618 [==============================] - 3s 2ms/step - loss: 0.0321\n",
      "Epoch 29/30\n",
      "1618/1618 [==============================] - 3s 2ms/step - loss: 0.0314\n",
      "Epoch 30/30\n",
      "1618/1618 [==============================] - 2s 1ms/step - loss: 0.0307\n",
      "MSE on the test set: 0.03451991218935086\n"
     ]
    }
   ],
   "source": [
    "from keras.models import Sequential\n",
    "from keras.layers import Dense, Activation\n",
    "from keras.optimizers import SGD\n",
    "from sklearn.metrics import mean_squared_error\n",
    "\n",
    "my_perceptron = Sequential()\n",
    "\n",
    "input_layer = Dense(1, input_dim=2, activation=\"sigmoid\", kernel_initializer=\"zero\")\n",
    "my_perceptron.add(input_layer)\n",
    "\n",
    "my_perceptron.compile(loss=\"mse\", optimizer=SGD(lr=0.01))\n",
    "\n",
    "my_perceptron.fit(train_x.values, train_y, epochs=30, batch_size=1, shuffle=True)\n",
    "pred_y = my_perceptron.predict(test_x)\n",
    "\n",
    "print('MSE on the test set:', mean_squared_error(pred_y, test_y))"
   ]
  },
  {
   "cell_type": "code",
   "execution_count": null,
   "metadata": {},
   "outputs": [],
   "source": []
  }
 ],
 "metadata": {
  "kernelspec": {
   "display_name": "Python 3",
   "language": "python",
   "name": "python3"
  },
  "language_info": {
   "codemirror_mode": {
    "name": "ipython",
    "version": 3
   },
   "file_extension": ".py",
   "mimetype": "text/x-python",
   "name": "python",
   "nbconvert_exporter": "python",
   "pygments_lexer": "ipython3",
   "version": "3.6.8"
  }
 },
 "nbformat": 4,
 "nbformat_minor": 2
}
